{
 "cells": [
  {
   "attachments": {},
   "cell_type": "markdown",
   "metadata": {},
   "source": [
    "### Lab 4 - IA\n"
   ]
  },
  {
   "cell_type": "code",
   "execution_count": 2,
   "metadata": {},
   "outputs": [],
   "source": [
    "# Imports\n",
    "\n",
    "import numpy as np\n",
    "import matplotlib.pyplot as plt\n",
    "import pandas as pd\n",
    "import sklearn as sk\n",
    "import seaborn as sns\n",
    "from sklearn.linear_model import LinearRegression"
   ]
  },
  {
   "attachments": {},
   "cell_type": "markdown",
   "metadata": {},
   "source": [
    "#### Task 1.1:\n",
    "- Leer CSV\n",
    "- Almacenarlo en un numpy.array"
   ]
  },
  {
   "cell_type": "code",
   "execution_count": 3,
   "metadata": {},
   "outputs": [
    {
     "data": {
      "text/html": [
       "<div>\n",
       "<style scoped>\n",
       "    .dataframe tbody tr th:only-of-type {\n",
       "        vertical-align: middle;\n",
       "    }\n",
       "\n",
       "    .dataframe tbody tr th {\n",
       "        vertical-align: top;\n",
       "    }\n",
       "\n",
       "    .dataframe thead th {\n",
       "        text-align: right;\n",
       "    }\n",
       "</style>\n",
       "<table border=\"1\" class=\"dataframe\">\n",
       "  <thead>\n",
       "    <tr style=\"text-align: right;\">\n",
       "      <th></th>\n",
       "      <th>id</th>\n",
       "      <th>date</th>\n",
       "      <th>price</th>\n",
       "      <th>bedrooms</th>\n",
       "      <th>bathrooms</th>\n",
       "      <th>sqft_living</th>\n",
       "      <th>sqft_lot</th>\n",
       "      <th>floors</th>\n",
       "      <th>waterfront</th>\n",
       "      <th>view</th>\n",
       "      <th>...</th>\n",
       "      <th>grade</th>\n",
       "      <th>sqft_above</th>\n",
       "      <th>sqft_basement</th>\n",
       "      <th>yr_built</th>\n",
       "      <th>yr_renovated</th>\n",
       "      <th>zipcode</th>\n",
       "      <th>lat</th>\n",
       "      <th>long</th>\n",
       "      <th>sqft_living15</th>\n",
       "      <th>sqft_lot15</th>\n",
       "    </tr>\n",
       "  </thead>\n",
       "  <tbody>\n",
       "    <tr>\n",
       "      <th>0</th>\n",
       "      <td>7129300520</td>\n",
       "      <td>20141013T000000</td>\n",
       "      <td>221900.0</td>\n",
       "      <td>3</td>\n",
       "      <td>1.00</td>\n",
       "      <td>1180</td>\n",
       "      <td>5650</td>\n",
       "      <td>1.0</td>\n",
       "      <td>0</td>\n",
       "      <td>0</td>\n",
       "      <td>...</td>\n",
       "      <td>7</td>\n",
       "      <td>1180</td>\n",
       "      <td>0</td>\n",
       "      <td>1955</td>\n",
       "      <td>0</td>\n",
       "      <td>98178</td>\n",
       "      <td>47.5112</td>\n",
       "      <td>-122.257</td>\n",
       "      <td>1340</td>\n",
       "      <td>5650</td>\n",
       "    </tr>\n",
       "    <tr>\n",
       "      <th>1</th>\n",
       "      <td>6414100192</td>\n",
       "      <td>20141209T000000</td>\n",
       "      <td>538000.0</td>\n",
       "      <td>3</td>\n",
       "      <td>2.25</td>\n",
       "      <td>2570</td>\n",
       "      <td>7242</td>\n",
       "      <td>2.0</td>\n",
       "      <td>0</td>\n",
       "      <td>0</td>\n",
       "      <td>...</td>\n",
       "      <td>7</td>\n",
       "      <td>2170</td>\n",
       "      <td>400</td>\n",
       "      <td>1951</td>\n",
       "      <td>1991</td>\n",
       "      <td>98125</td>\n",
       "      <td>47.7210</td>\n",
       "      <td>-122.319</td>\n",
       "      <td>1690</td>\n",
       "      <td>7639</td>\n",
       "    </tr>\n",
       "    <tr>\n",
       "      <th>2</th>\n",
       "      <td>5631500400</td>\n",
       "      <td>20150225T000000</td>\n",
       "      <td>180000.0</td>\n",
       "      <td>2</td>\n",
       "      <td>1.00</td>\n",
       "      <td>770</td>\n",
       "      <td>10000</td>\n",
       "      <td>1.0</td>\n",
       "      <td>0</td>\n",
       "      <td>0</td>\n",
       "      <td>...</td>\n",
       "      <td>6</td>\n",
       "      <td>770</td>\n",
       "      <td>0</td>\n",
       "      <td>1933</td>\n",
       "      <td>0</td>\n",
       "      <td>98028</td>\n",
       "      <td>47.7379</td>\n",
       "      <td>-122.233</td>\n",
       "      <td>2720</td>\n",
       "      <td>8062</td>\n",
       "    </tr>\n",
       "    <tr>\n",
       "      <th>3</th>\n",
       "      <td>2487200875</td>\n",
       "      <td>20141209T000000</td>\n",
       "      <td>604000.0</td>\n",
       "      <td>4</td>\n",
       "      <td>3.00</td>\n",
       "      <td>1960</td>\n",
       "      <td>5000</td>\n",
       "      <td>1.0</td>\n",
       "      <td>0</td>\n",
       "      <td>0</td>\n",
       "      <td>...</td>\n",
       "      <td>7</td>\n",
       "      <td>1050</td>\n",
       "      <td>910</td>\n",
       "      <td>1965</td>\n",
       "      <td>0</td>\n",
       "      <td>98136</td>\n",
       "      <td>47.5208</td>\n",
       "      <td>-122.393</td>\n",
       "      <td>1360</td>\n",
       "      <td>5000</td>\n",
       "    </tr>\n",
       "    <tr>\n",
       "      <th>4</th>\n",
       "      <td>1954400510</td>\n",
       "      <td>20150218T000000</td>\n",
       "      <td>510000.0</td>\n",
       "      <td>3</td>\n",
       "      <td>2.00</td>\n",
       "      <td>1680</td>\n",
       "      <td>8080</td>\n",
       "      <td>1.0</td>\n",
       "      <td>0</td>\n",
       "      <td>0</td>\n",
       "      <td>...</td>\n",
       "      <td>8</td>\n",
       "      <td>1680</td>\n",
       "      <td>0</td>\n",
       "      <td>1987</td>\n",
       "      <td>0</td>\n",
       "      <td>98074</td>\n",
       "      <td>47.6168</td>\n",
       "      <td>-122.045</td>\n",
       "      <td>1800</td>\n",
       "      <td>7503</td>\n",
       "    </tr>\n",
       "  </tbody>\n",
       "</table>\n",
       "<p>5 rows × 21 columns</p>\n",
       "</div>"
      ],
      "text/plain": [
       "           id             date     price  bedrooms  bathrooms  sqft_living  \\\n",
       "0  7129300520  20141013T000000  221900.0         3       1.00         1180   \n",
       "1  6414100192  20141209T000000  538000.0         3       2.25         2570   \n",
       "2  5631500400  20150225T000000  180000.0         2       1.00          770   \n",
       "3  2487200875  20141209T000000  604000.0         4       3.00         1960   \n",
       "4  1954400510  20150218T000000  510000.0         3       2.00         1680   \n",
       "\n",
       "   sqft_lot  floors  waterfront  view  ...  grade  sqft_above  sqft_basement  \\\n",
       "0      5650     1.0           0     0  ...      7        1180              0   \n",
       "1      7242     2.0           0     0  ...      7        2170            400   \n",
       "2     10000     1.0           0     0  ...      6         770              0   \n",
       "3      5000     1.0           0     0  ...      7        1050            910   \n",
       "4      8080     1.0           0     0  ...      8        1680              0   \n",
       "\n",
       "   yr_built  yr_renovated  zipcode      lat     long  sqft_living15  \\\n",
       "0      1955             0    98178  47.5112 -122.257           1340   \n",
       "1      1951          1991    98125  47.7210 -122.319           1690   \n",
       "2      1933             0    98028  47.7379 -122.233           2720   \n",
       "3      1965             0    98136  47.5208 -122.393           1360   \n",
       "4      1987             0    98074  47.6168 -122.045           1800   \n",
       "\n",
       "   sqft_lot15  \n",
       "0        5650  \n",
       "1        7639  \n",
       "2        8062  \n",
       "3        5000  \n",
       "4        7503  \n",
       "\n",
       "[5 rows x 21 columns]"
      ]
     },
     "execution_count": 3,
     "metadata": {},
     "output_type": "execute_result"
    }
   ],
   "source": [
    "\n",
    "#Lectura CSV\n",
    "kc_houseData = pd.read_csv('kc_house_data.csv')\n",
    "\n",
    "# CSV a np.array\n",
    "kc_Array = kc_houseData.values\n",
    "\n",
    "kc_houseData.head()\n",
    "\n",
    "\n",
    "\n",
    "\n"
   ]
  },
  {
   "attachments": {},
   "cell_type": "markdown",
   "metadata": {},
   "source": [
    "#### Task 1.2\n",
    "- Modelo polinomial que relacione variables de price y sqft living.\n",
    "\n",
    "\n",
    "Para este inciso, primero se realizó directamente sobre un dataframe de pandas.\n",
    "Luego, se realizó, como se solicitó, con un array de numpy.\n",
    "\n",
    "Cabe destacar que se dejaron ambas versiones como método de verificación del proceso correcto.\n",
    "La primera queda como prueba adicional de concepto del correcto funcionamiento y verificación de datos.\n",
    "\n",
    "Finalmente, se realizó una regresión lineal polinómica como se solicitó en este inciso.\n",
    "\n"
   ]
  },
  {
   "cell_type": "code",
   "execution_count": 4,
   "metadata": {},
   "outputs": [
    {
     "name": "stdout",
     "output_type": "stream",
     "text": [
      "Coeficiente: [280.6235679]\n",
      "Intercepto:   -43580.743094473146\n"
     ]
    }
   ],
   "source": [
    "\"\"\"\n",
    "PROCESO REALIZADO CON PANDAS DATAFRAME\n",
    "\n",
    "Usado como verificación de los resultados obtenidos con numpy\n",
    "\n",
    "\"\"\"\n",
    "\n",
    "# Extracción de variables\n",
    "sqft_living = kc_houseData[\"sqft_living\"].values.reshape(-1,1)\n",
    "price = kc_houseData[\"price\"].values\n",
    "\n",
    "# Modelo de regresión lineal\n",
    "model1 = LinearRegression()\n",
    "\n",
    "# Entrenamiento del modelo\n",
    "model1.fit(sqft_living, price)\n",
    "\n",
    "print(\"Coeficiente:\", model1.coef_)\n",
    "print(\"Intercepto:  \",model1.intercept_)\n"
   ]
  },
  {
   "cell_type": "code",
   "execution_count": 5,
   "metadata": {},
   "outputs": [
    {
     "name": "stdout",
     "output_type": "stream",
     "text": [
      "Coeficiente: [280.6235679]\n",
      "Intercepto:   -43580.743094473146\n"
     ]
    }
   ],
   "source": [
    "\n",
    "\"\"\"\n",
    "PROCESO REALIZADO CON NUMPY ARRAY\n",
    "Según lo solicitado en el enunciado.\n",
    "Se obtienen los mismos resultados que con pandas.\n",
    "\"\"\"\n",
    "\n",
    "# Extracción de variables\n",
    "sqftliving = kc_Array[:, 5].reshape(-1,1)\n",
    "price2 = kc_Array[:, 2]\n",
    "\n",
    "# Modelo de regresión lineal\n",
    "model = LinearRegression()\n",
    "\n",
    "# Entrenamiento del modelo\n",
    "model.fit(sqftliving, price2)\n",
    "\n",
    "print(\"Coeficiente:\", model.coef_)\n",
    "print(\"Intercepto:  \",model.intercept_)"
   ]
  },
  {
   "cell_type": "code",
   "execution_count": 6,
   "metadata": {},
   "outputs": [
    {
     "name": "stdout",
     "output_type": "stream",
     "text": [
      "Pérdida: 62975083210.965614\n",
      "w0: 199222.27930551543\n",
      "w1: 228.48440358227515\n"
     ]
    }
   ],
   "source": [
    "# Selección de variables\n",
    "sqftliving_poly = kc_Array[:, 5].reshape(-1,1)\n",
    "price_poly = kc_Array[:, 2]\n",
    "\n",
    "# Matriz polinomial de segundo grado\n",
    "sqftPoli = np.ones((sqftliving_poly.shape[0], 1))\n",
    "for i in range(1, 3):\n",
    "    sqftPoli = np.concatenate((sqftPoli, sqftliving_poly**i), axis=1)\n",
    "\n",
    "# XTX y XTY\n",
    "X_transpose = sqftPoli.T\n",
    "XTX = X_transpose.dot(sqftPoli).astype('float64')\n",
    "XTY = X_transpose.dot(price_poly).astype('float64')\n",
    "\n",
    "# Coeficientes beta\n",
    "beta = np.linalg.solve(XTX, XTY)\n",
    "\n",
    "# Cálculo de la pérdida al cuadrado\n",
    "y_pred = sqftPoli.dot(beta)\n",
    "perdida = np.mean((price_poly - y_pred)**2)\n",
    "print('Pérdida:', np.mean((price_poly - y_pred)**2))\n",
    "\n",
    "# Cálculo de w0 y w1\n",
    "w0 = beta[0]\n",
    "w1 = beta[1] + 2*beta[2]*sqftliving_poly.mean()\n",
    "print('w0:', w0)\n",
    "print('w1:', w1)"
   ]
  },
  {
   "cell_type": "code",
   "execution_count": 10,
   "metadata": {},
   "outputs": [
    {
     "data": {
      "image/png": "[encoded data removed]",
      "text/plain": [
       "<Figure size 800x600 with 1 Axes>"
      ]
     },
     "metadata": {},
     "output_type": "display_data"
    }
   ],
   "source": [
    "# Gráfico de datos y predicciones\n",
    "sns.set_style('whitegrid')\n",
    "plt.figure(figsize=(8,6))\n",
    "plt.scatter(sqftliving_poly, price_poly, alpha=0.5)\n",
    "x_range = np.linspace(sqftliving_poly.min(), sqftliving_poly.max(), 100)\n",
    "y_range = beta[0] + beta[1]*x_range + beta[2]*x_range**2\n",
    "plt.plot(x_range, y_range, color='b', label='Regresión polinomial')\n",
    "plt.legend()\n",
    "plt.xlabel('sqft-iving')\n",
    "plt.ylabel('price')\n",
    "plt.show()"
   ]
  },
  {
   "attachments": {},
   "cell_type": "markdown",
   "metadata": {},
   "source": [
    "#### Task 1.3\n",
    "- Implementación vectorial del algoritmo de regresión lineal"
   ]
  },
  {
   "cell_type": "code",
   "execution_count": 16,
   "metadata": {},
   "outputs": [
    {
     "name": "stdout",
     "output_type": "stream",
     "text": [
      "[2.32550673e+15 1.99864613e+15 3.53209181e+15]\n",
      "[[2325506491173822.5 2325506214254854.0 2325506572854957.0 ...\n",
      "  2325506523049387.0 2325506407500465.0 2325506523049387.0]\n",
      " [1998646129905771.0 1998646129811259.2 1998646129933648.5 ...\n",
      "  1998646129916650.0 1998646129877213.5 1998646129916650.0]\n",
      " [3532091808791336.0 3532091808791282.5 3532091808791352.0 ...\n",
      "  3532091808791342.0 3532091808791320.0 3532091808791342.0]]\n",
      "[[2325506491173822.5 1998646129905771.0 3532091808791336.0]\n",
      " [2325506214254854.0 1998646129811259.2 3532091808791282.5]\n",
      " [2325506572854957.0 1998646129933648.5 3532091808791352.0]\n",
      " ...\n",
      " [2325506523049387.0 1998646129916650.0 3532091808791342.0]\n",
      " [2325506407500465.0 1998646129877213.5 3532091808791320.0]\n",
      " [2325506523049387.0 1998646129916650.0 3532091808791342.0]]\n",
      "[[5.407979606657675e+30 4.6478641901955535e+30 8.213901795532358e+30]\n",
      " [4.6478641901955535e+30 3.9945863523427406e+30 7.059401623896478e+30]\n",
      " [8.213901795532358e+30 7.059401623896478e+30 1.247567254572449e+31]]\n"
     ]
    }
   ],
   "source": [
    "t = np.multiply(beta, XTY)\n",
    "p1 = np.subtract(t,np.multiply(sqftliving_poly, beta)).T\n",
    "p2 = np.subtract(t,np.multiply(sqftliving_poly, beta))\n",
    "L = np.matmul(p1,p2) * 1/sqftliving_poly.shape[0]\n",
    "\n",
    "print(t)\n",
    "print(p1)\n",
    "print(p2)\n",
    "print(L)"
   ]
  },
  {
   "attachments": {},
   "cell_type": "markdown",
   "metadata": {},
   "source": [
    "#### Task 1.4\n",
    "- Cross-validation del grado del polinomio que mejor describe la nube de puntos"
   ]
  },
  {
   "cell_type": "code",
   "execution_count": null,
   "metadata": {},
   "outputs": [],
   "source": []
  },
  {
   "cell_type": "markdown",
   "metadata": {},
   "source": [
    "#### Task 1.5\n",
    "- Análisis de hallazgos:\n",
    "\n",
    "    - 1.\n",
    "    - 2.\n",
    "    - 3."
   ]
  }
 ],
 "metadata": {
  "kernelspec": {
   "display_name": "Python 3",
   "language": "python",
   "name": "python3"
  },
  "language_info": {
   "codemirror_mode": {
    "name": "ipython",
    "version": 3
   },
   "file_extension": ".py",
   "mimetype": "text/x-python",
   "name": "python",
   "nbconvert_exporter": "python",
   "pygments_lexer": "ipython3",
   "version": "3.10.0"
  },
  "orig_nbformat": 4,
  "vscode": {
   "interpreter": {
    "hash": "67783390838d2e02912aac04d405c75735cc05868bfeaabbe6ec2bbdb2e2542d"
   }
  }
 },
 "nbformat": 4,
 "nbformat_minor": 2
}
